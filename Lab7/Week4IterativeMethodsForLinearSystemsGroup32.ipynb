{
  "nbformat": 4,
  "nbformat_minor": 0,
  "metadata": {
    "colab": {
      "provenance": [],
      "include_colab_link": true
    },
    "kernelspec": {
      "name": "python3",
      "display_name": "Python 3"
    },
    "language_info": {
      "name": "python"
    }
  },
  "cells": [
    {
      "cell_type": "markdown",
      "metadata": {
        "id": "view-in-github",
        "colab_type": "text"
      },
      "source": [
        "<a href=\"https://colab.research.google.com/github/shchUNAL/MetNumUN2023I/blob/main/Lab7/Week4IterativeMethodsForLinearSystemsGroup32.ipynb\" target=\"_parent\"><img src=\"https://colab.research.google.com/assets/colab-badge.svg\" alt=\"Open In Colab\"/></a>"
      ]
    },
    {
      "cell_type": "markdown",
      "metadata": {
        "id": "a7fAe3n1PgMY"
      },
      "source": [
        "# Simple iteration for systems of linear equations"
      ]
    },
    {
      "cell_type": "markdown",
      "metadata": {
        "id": "lTRgb7xaPgMk"
      },
      "source": [
        "First, generate a random diagonally dominant matrix, for testing."
      ]
    },
    {
      "cell_type": "code",
      "execution_count": null,
      "metadata": {
        "id": "AYa4ZH6WPgMm"
      },
      "outputs": [],
      "source": [
        "import numpy as np\n",
        "rndm = np.random.RandomState(1234)\n",
        "\n",
        "n = 10\n",
        "A = rndm.uniform(size=(n, n)) + np.diagflat([15]*n)\n",
        "b = rndm.uniform(size=n)"
      ]
    },
    {
      "cell_type": "markdown",
      "metadata": {
        "id": "YQEV5z42PgMp"
      },
      "source": [
        "# I.  Jacobi iteration\n",
        "\n",
        "Given\n",
        "\n",
        "$$\n",
        "A x = b\n",
        "$$\n",
        "\n",
        "separate the diagonal part $D$,\n",
        "\n",
        "$$ A = D + (A - D) $$\n",
        "\n",
        "and write\n",
        "\n",
        "$$\n",
        "x = D^{-1} (D - A) x + D^{-1} b\\;.\n",
        "$$\n",
        "\n",
        "Then iterate\n",
        "\n",
        "$$\n",
        "x_{n + 1} = B x_{n} + c\\;,\n",
        "$$\n",
        "\n",
        "where \n",
        "\n",
        "$$\n",
        "B = D^{-1} (A - D) \\qquad \\text{and} \\qquad c = D^{-1} b\n",
        "$$\n"
      ]
    },
    {
      "cell_type": "markdown",
      "metadata": {
        "id": "GFDczmkwPgMq"
      },
      "source": [
        "Let's construct the matrix and the r.h.s. for the Jacobi iteration"
      ]
    },
    {
      "cell_type": "code",
      "execution_count": null,
      "metadata": {
        "id": "hTFC-MdMPgMr"
      },
      "outputs": [],
      "source": [
        "diag_1d = np.diag(A)\n",
        "\n",
        "B = -A.copy()\n",
        "np.fill_diagonal(B, 0)\n",
        "\n",
        "D = np.diag(diag_1d)\n",
        "invD = np.diag(1./diag_1d)\n",
        "BB = invD @ B \n",
        "c = invD @ b"
      ]
    },
    {
      "cell_type": "code",
      "execution_count": null,
      "metadata": {
        "id": "lDHebeOFPgMt"
      },
      "outputs": [],
      "source": [
        "# sanity checks\n",
        "from numpy.testing import assert_allclose\n",
        "\n",
        "assert_allclose(-B + D, A)\n",
        "\n",
        "\n",
        "# xx is a \"ground truth\" solution, compute it using a direct method\n",
        "xx = np.linalg.solve(A, b)\n",
        "\n",
        "np.testing.assert_allclose(A@xx, b)\n",
        "np.testing.assert_allclose(D@xx, B@xx + b)\n",
        "np.testing.assert_allclose(xx, BB@xx + c)"
      ]
    },
    {
      "cell_type": "markdown",
      "metadata": {
        "id": "eQJPa1P0PgMu"
      },
      "source": [
        "Check that $\\| B\\| \\leqslant 1$:"
      ]
    },
    {
      "cell_type": "code",
      "execution_count": null,
      "metadata": {
        "colab": {
          "base_uri": "https://localhost:8080/"
        },
        "id": "nhYMP7MoPgMv",
        "outputId": "001b76cf-b54f-411c-973b-e5166ecc73cc"
      },
      "outputs": [
        {
          "output_type": "execute_result",
          "data": {
            "text/plain": [
              "0.36436161983015336"
            ]
          },
          "metadata": {},
          "execution_count": 31
        }
      ],
      "source": [
        "np.linalg.norm(BB)"
      ]
    },
    {
      "cell_type": "markdown",
      "metadata": {
        "id": "pQM_ljB-PgMz"
      },
      "source": [
        "### Do the Jacobi iteration"
      ]
    },
    {
      "cell_type": "code",
      "execution_count": null,
      "metadata": {
        "id": "WqnS7vqwPgM0"
      },
      "outputs": [],
      "source": [
        "n_iter = 50\n",
        "\n",
        "x0 = np.ones(n)\n",
        "x = x0\n",
        "for _ in range(n_iter):\n",
        "    x = BB @ x + c"
      ]
    },
    {
      "cell_type": "code",
      "execution_count": null,
      "metadata": {
        "colab": {
          "base_uri": "https://localhost:8080/"
        },
        "id": "Ag6Nx4X_PgM1",
        "outputId": "56471d5e-e4a5-48fc-b47d-033c07eaed13"
      },
      "outputs": [
        {
          "output_type": "execute_result",
          "data": {
            "text/plain": [
              "array([ 1.11022302e-16,  0.00000000e+00, -2.22044605e-16, -1.11022302e-16,\n",
              "        1.11022302e-16,  0.00000000e+00, -2.08166817e-17,  0.00000000e+00,\n",
              "       -2.77555756e-17,  1.11022302e-16])"
            ]
          },
          "metadata": {},
          "execution_count": 33
        }
      ],
      "source": [
        "# Check the result:\n",
        "\n",
        "A @ x - b"
      ]
    },
    {
      "cell_type": "markdown",
      "metadata": {
        "id": "Fq641yLuPgM1"
      },
      "source": [
        "### Task I.1\n",
        "\n",
        "Collect the proof-of-concept above into a single function implementing the Jacobi iteration. This function should receive the r.h.s. matrix $A$, the l.h.s. vector `b`, and the number of iterations to perform.\n",
        "\n",
        "\n",
        "The matrix $A$ in the illustration above is strongly diagonally dominant, by construction. \n",
        "What happens if the diagonal matrix elements of $A$ are made smaller? Check the convergence of the Jacobi iteration, and check the value of the norm of $B$.\n",
        "\n",
        "(20% of the total grade)\n"
      ]
    },
    {
      "cell_type": "code",
      "execution_count": null,
      "metadata": {
        "id": "1zuClaHZPgM2"
      },
      "outputs": [],
      "source": [
        "def Jacobi_iteration(A, b, eps = 1e-7, n_iter = 50):\n",
        "    \n",
        "    diag_1d = np.diag(A)\n",
        "    B = -A.copy()\n",
        "    np.fill_diagonal(B, 0)\n",
        "    invD = np.diag(1./diag_1d)\n",
        "    BB = invD @ B \n",
        "    c = invD @ b\n",
        "    \n",
        "    x = np.ones(n)\n",
        "    for _ in range(n_iter):\n",
        "        x = BB @ x + c\n",
        "    return x"
      ]
    },
    {
      "cell_type": "code",
      "execution_count": null,
      "metadata": {
        "colab": {
          "base_uri": "https://localhost:8080/"
        },
        "id": "63tF7gExPgM3",
        "outputId": "16d437b4-f553-42f0-9ad3-0f1d946a063c"
      },
      "outputs": [
        {
          "output_type": "stream",
          "name": "stdout",
          "text": [
            "[ 0.03919429  0.03780037  0.04283232  0.02365951  0.05745031 -0.00030244\n",
            " -0.00577279  0.03177549 -0.00422849  0.05284648]\n"
          ]
        }
      ],
      "source": [
        "x = Jacobi_iteration(A, b)\n",
        "print(x)\n",
        "\n",
        "np.testing.assert_allclose(A@x, b)\n",
        "np.testing.assert_allclose(x, xx)"
      ]
    },
    {
      "cell_type": "code",
      "execution_count": null,
      "metadata": {
        "colab": {
          "base_uri": "https://localhost:8080/"
        },
        "id": "Yp0xK1TsPgM6",
        "outputId": "a67b36a7-3aba-485d-bbdb-0fc3499611bc"
      },
      "outputs": [
        {
          "output_type": "stream",
          "name": "stdout",
          "text": [
            "0.38959181027260875 2.005305120107153e-17\n",
            "0.4185783948614869 1.6502682545529e-17\n",
            "0.4522284025473819 3.622208959480119e-17\n",
            "0.4917667095178099 2.72080745804227e-17\n",
            "0.5388887887486234 2.660694867584809e-17\n",
            "0.5960110344093966 1.0255972154762448e-15\n",
            "0.6667001660296402 2.770910834768342e-13\n",
            "0.7564517359241753 1.4990529163071287e-10\n",
            "0.8742017351588476 2.0161596093475135e-07\n",
            "1.0355299928250665 0.0009191717405677889\n",
            "1.2702850939751231 23.48163367953916\n",
            "1.6439565658213244 8260242.793633645\n",
            "2.334809111760855 261149802433164.78\n",
            "4.080768845910033 1.3716691464130671e+26\n",
            "30.715327603064885 1.739863582849129e+61\n"
          ]
        }
      ],
      "source": [
        "for k in range(1, 16):\n",
        "    A1 = A + np.diagflat([-k]*n)\n",
        "    print(np.linalg.norm(np.diag(1./np.diag(A1))@(-A1.copy()+np.diag(np.diag(A1)))),\n",
        "          np.linalg.norm(Jacobi_iteration(A1, b)-np.linalg.solve(A1, b)))\n",
        "    "
      ]
    },
    {
      "cell_type": "markdown",
      "metadata": {
        "id": "Tc15rFgPPgM8"
      },
      "source": [
        "# II. Seidel's iteration."
      ]
    },
    {
      "cell_type": "markdown",
      "metadata": {
        "id": "hkzGWUTnPgM9"
      },
      "source": [
        "##### Task II.1\n",
        "\n",
        "Implement the Seidel's iteration. \n",
        "\n",
        "Test it on a random matrix. Study the convergence of iterations, relate to the norm of the iteration matrix.\n",
        "\n",
        "(30% of the total grade)"
      ]
    },
    {
      "cell_type": "code",
      "execution_count": null,
      "metadata": {
        "id": "8baiDz9GPgM-"
      },
      "outputs": [],
      "source": [
        "def seidel_iteration(A, b, eps = 1e-7, n_iter = 50):\n",
        "    x = np.ones(b.shape[0])\n",
        "    \n",
        "    for _ in range(n_iter):\n",
        "        for k in range(b.shape[0]):\n",
        "              x[k] = (b[k]-np.dot(A[k][:k], x[:k])- np.dot(A[k][k+1:], x[k+1:]))/A[k,k]\n",
        "    return x"
      ]
    },
    {
      "cell_type": "code",
      "execution_count": null,
      "metadata": {
        "id": "ZXHxKgrfPgM_"
      },
      "outputs": [],
      "source": [
        "x = seidel_iteration(A,b)\n",
        "\n",
        "np.testing.assert_allclose(A@x, b)\n",
        "np.testing.assert_allclose(x, xx)"
      ]
    },
    {
      "cell_type": "code",
      "execution_count": null,
      "metadata": {
        "colab": {
          "base_uri": "https://localhost:8080/"
        },
        "id": "EJMz4ljxPgND",
        "outputId": "9c67244a-f3a3-4c27-83a2-f2959d69b6bb"
      },
      "outputs": [
        {
          "output_type": "stream",
          "name": "stdout",
          "text": [
            "0.38959181027260875 1.5540063044689707e-17\n",
            "0.4185783948614869 2.303412968156487e-17\n",
            "0.4522284025473819 3.3107778123195866e-17\n",
            "0.4917667095178099 1.717836144195444e-17\n",
            "0.5388887887486234 1.8703665918870363e-17\n",
            "0.5960110344093966 2.6208106743381504e-17\n",
            "0.6667001660296402 3.222105849667643e-17\n",
            "0.7564517359241753 3.894444544739273e-17\n",
            "0.8742017351588476 4.3610271956070115e-17\n",
            "1.0355299928250665 7.521581756278068e-17\n",
            "1.2702850939751231 6.691626947686432e-17\n",
            "1.6439565658213244 1.0829177162645093e-16\n",
            "2.334809111760855 1.1775693440128312e-16\n",
            "4.080768845910033 4.10633611443092e-09\n",
            "30.715327603064885 2.224327617064848e+114\n"
          ]
        }
      ],
      "source": [
        "for k in range(1, 16):\n",
        "    A1 = A + np.diagflat([-k]*n)\n",
        "    print(np.linalg.norm(np.diag(1./np.diag(A1))@(-A1.copy()+np.diag(np.diag(A1)))),\n",
        "          np.linalg.norm(seidel_iteration(A1, b)-np.linalg.solve(A1, b)))"
      ]
    },
    {
      "cell_type": "markdown",
      "metadata": {
        "id": "ZerqNGRBPgNE"
      },
      "source": [
        "# III. Minimum residual scheme"
      ]
    },
    {
      "cell_type": "markdown",
      "metadata": {
        "id": "IaqS7JyZPgNE"
      },
      "source": [
        "### Task III.1\n",
        "\n",
        "Implement the $\\textit{minimum residual}$ scheme: an explicit non-stationary method, where at each step you select the iteration parameter $\\tau_n$ to minimize the residual $\\mathbf{r}_{n+1}$ given $\\mathbf{r}_n$. Test it on a random matrix, study the convergence to the solution, in terms of the norm of the residual and the deviation from the ground truth solution (which you can obtain using a direct method). Study how the iteration parameter $\\tau_n$ changes as iterations progress.\n",
        "\n",
        "(50% of the grade)"
      ]
    },
    {
      "cell_type": "code",
      "execution_count": null,
      "metadata": {
        "id": "bxImYF0EPgNF"
      },
      "outputs": [],
      "source": [
        "def minimum_res_scheme(A, b, eps = 1e-7, n_iter = 50):\n",
        "    x = np.ones(b.shape[0])\n",
        "    \n",
        "    for _ in range(n_iter):\n",
        "        r = A @ x - b\n",
        "        k = (r @ A @ r)/np.linalg.norm(A @ r)**2\n",
        "        x = x - k*r\n",
        "        \n",
        "    return x"
      ]
    },
    {
      "cell_type": "code",
      "execution_count": null,
      "metadata": {
        "id": "oKy3zMqcPgNG"
      },
      "outputs": [],
      "source": [
        "x = minimum_res_scheme(A,b)\n",
        "\n",
        "np.testing.assert_allclose(A@x, b)\n",
        "np.testing.assert_allclose(x, xx)"
      ]
    },
    {
      "cell_type": "code",
      "execution_count": null,
      "metadata": {
        "colab": {
          "base_uri": "https://localhost:8080/"
        },
        "id": "AbsyS52OPgNG",
        "outputId": "4d8f9368-bf8d-49b3-cf10-2dde8c8ae063"
      },
      "outputs": [
        {
          "output_type": "stream",
          "name": "stdout",
          "text": [
            "0.38959181027260875 2.224174099750403e-17\n",
            "0.4185783948614869 2.32747678105055e-17\n",
            "0.4522284025473819 3.867305227724097e-17\n",
            "0.4917667095178099 2.823925224926892e-17\n",
            "0.5388887887486234 1.717288626685379e-17\n",
            "0.5960110344093966 2.3338317471424865e-17\n",
            "0.6667001660296402 3.309641454705087e-17\n",
            "0.7564517359241753 nan\n",
            "0.8742017351588476 4.718958039861916e-17\n",
            "1.0355299928250665 7.11870997173569e-17\n",
            "1.2702850939751231 6.834017936133213e-17\n",
            "1.6439565658213244 1.0367784962136927e-16\n",
            "2.334809111760855 1.0822660244255038e-13\n",
            "4.080768845910033 0.00021717913683793173\n",
            "30.715327603064885 2.0818042350846104\n"
          ]
        },
        {
          "output_type": "stream",
          "name": "stderr",
          "text": [
            "<ipython-input-40-7720606926f4>:6: RuntimeWarning: invalid value encountered in double_scalars\n",
            "  k = (r @ A @ r)/np.linalg.norm(A @ r)**2\n"
          ]
        }
      ],
      "source": [
        "for k in range(1, 16):\n",
        "    A1 = A + np.diagflat([-k]*n)\n",
        "    print(np.linalg.norm(np.diag(1./np.diag(A1))@(-A1.copy()+np.diag(np.diag(A1)))),\n",
        "          np.linalg.norm(minimum_res_scheme(A1, b)-np.linalg.solve(A1, b)))"
      ]
    }
  ]
}