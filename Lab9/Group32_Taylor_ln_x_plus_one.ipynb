{
  "nbformat": 4,
  "nbformat_minor": 0,
  "metadata": {
    "colab": {
      "provenance": [],
      "include_colab_link": true
    },
    "kernelspec": {
      "name": "python3",
      "display_name": "Python 3"
    },
    "language_info": {
      "name": "python"
    }
  },
  "cells": [
    {
      "cell_type": "markdown",
      "metadata": {
        "id": "view-in-github",
        "colab_type": "text"
      },
      "source": [
        "<a href=\"https://colab.research.google.com/github/shchUNAL/MetNumUN2023I/blob/main/Lab9/Group32_Taylor_ln_x_plus_one.ipynb\" target=\"_parent\"><img src=\"https://colab.research.google.com/assets/colab-badge.svg\" alt=\"Open In Colab\"/></a>"
      ]
    },
    {
      "cell_type": "markdown",
      "metadata": {
        "id": "GfjJs2zaFLfR"
      },
      "source": [
        "**Lab9**\n",
        "\n",
        "Santiago Hernández Chaparro\n",
        "\n",
        "\n",
        "Nicolas Eduardo Peña Quitian\n",
        "\n",
        "\n",
        "Nicolas Daniel Hernández Venegas\n",
        "\n",
        "\n"
      ]
    },
    {
      "cell_type": "code",
      "source": [
        "import math\n",
        "\n",
        "def Taylor_e_to_x_nterm_plus_one_less_epsilon(x, epsilon):\n",
        "    if x > 0:\n",
        "        n = 0\n",
        "        e_to_x = 0\n",
        "        term = 1\n",
        "\n",
        "        while abs(term) >= epsilon:\n",
        "            e_to_x += term\n",
        "            term *= x / (n + 1)\n",
        "            n += 1\n",
        "\n",
        "        return n, e_to_x\n",
        "\n",
        "    elif x <= 0:\n",
        "        n = 0\n",
        "        e_to_minus_x = 0\n",
        "        term = 1\n",
        "\n",
        "        while abs(term) >= epsilon:\n",
        "            e_to_minus_x += term\n",
        "            term *= -x / (n + 1)\n",
        "            n += 1\n",
        "\n",
        "        e_to_x = 1 / e_to_minus_x\n",
        "\n",
        "        return n, e_to_x"
      ],
      "metadata": {
        "id": "XzUyDEBK217t"
      },
      "execution_count": null,
      "outputs": []
    },
    {
      "cell_type": "code",
      "source": [
        "Taylor_e_to_x_nterm_plus_one_less_epsilon(x=-700,epsilon=10**(-19))\n"
      ],
      "metadata": {
        "id": "B5Yrweq9yY2V",
        "colab": {
          "base_uri": "https://localhost:8080/"
        },
        "outputId": "17053f39-e52e-49c7-c1b1-eac689854bd8"
      },
      "execution_count": null,
      "outputs": [
        {
          "output_type": "execute_result",
          "data": {
            "text/plain": [
              "(1942, 9.859676543759759e-305)"
            ]
          },
          "metadata": {},
          "execution_count": 68
        }
      ]
    },
    {
      "cell_type": "code",
      "source": [],
      "metadata": {
        "id": "MgXUap7y216W"
      },
      "execution_count": null,
      "outputs": []
    }
  ]
}