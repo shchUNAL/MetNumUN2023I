{
  "nbformat": 4,
  "nbformat_minor": 0,
  "metadata": {
    "kernelspec": {
      "display_name": "Python 3",
      "language": "python",
      "name": "python3"
    },
    "language_info": {
      "codemirror_mode": {
        "name": "ipython",
        "version": 3
      },
      "file_extension": ".py",
      "mimetype": "text/x-python",
      "name": "python",
      "nbconvert_exporter": "python",
      "pygments_lexer": "ipython3",
      "version": "3.6.2"
    },
    "colab": {
      "provenance": [],
      "include_colab_link": true
    },
    "gpuClass": "standard"
  },
  "cells": [
    {
      "cell_type": "markdown",
      "metadata": {
        "id": "view-in-github",
        "colab_type": "text"
      },
      "source": [
        "<a href=\"https://colab.research.google.com/github/shchUNAL/MetNumUN2023I/blob/main/Lab9/shernandezchAlgorithmicToolboxWeek3SolvingNonLinearAlgebraicEquations.ipynb\" target=\"_parent\"><img src=\"https://colab.research.google.com/assets/colab-badge.svg\" alt=\"Open In Colab\"/></a>"
      ]
    },
    {
      "cell_type": "markdown",
      "metadata": {
        "id": "rJlLJycwusht"
      },
      "source": [
        "# Part I. Root-finding. Newton's iteration."
      ]
    },
    {
      "cell_type": "markdown",
      "metadata": {
        "id": "gjBbKumhushx"
      },
      "source": [
        "Write a function which performs Newton's iteration for a given function $f(x)$ with known derivative $f'(x)$. Your function should find the root of $f(x)$ with a predefined absolute accuracy $\\epsilon$. "
      ]
    },
    {
      "cell_type": "code",
      "metadata": {
        "id": "ye_DFt09ush_"
      },
      "source": [
        "import numpy as np \n",
        "import cmath \n",
        "from numpy.testing import assert_allclose\n",
        "\n",
        "import matplotlib.pyplot as plt \n",
        "%matplotlib inline "
      ],
      "execution_count": null,
      "outputs": []
    },
    {
      "cell_type": "code",
      "metadata": {
        "id": "G95KhyDfusiB"
      },
      "source": [
        "#Python 3\n",
        "\n",
        "# Find a root of $f(x) = 0$ via Newton's iteration starting from x0.\n",
        "    \n",
        "#     Parameters\n",
        "#     ----------\n",
        "#     f : callable\n",
        "#         The function to find a root of.\n",
        "#     fder : callable\n",
        "#         The derivative of `f`.\n",
        "#     x0 : float\n",
        "#         Initial value for the Newton's iteration.\n",
        "#     eps : float\n",
        "#         The target accuracy. \n",
        "#         The iteration stops when the distance between successive iterates is below `eps`.\n",
        "#         Default is 1e-5.\n",
        "#     maxiter : int\n",
        "#         The maximum number of iterations (default is 1000.)\n",
        "#         Iterations terminate if the number of iterations exceeds `maxiter`.\n",
        "#         This parameter is only needed to avoid infinite loops if iterations wander off.\n",
        "        \n",
        "#     Returns\n",
        "#     -------\n",
        "#     x : float\n",
        "#         The estimate for the root.\n",
        "#     niter : int\n",
        "#         The number of iterations.\n",
        "\n",
        "def newton_iteration(f, fder, x0, eps=1e-5, maxiter=1000):\n",
        "\n",
        "    var_x = x0 - f(x0) / fder(x0) #first item\n",
        "    iteration_count = 0\n",
        "    \n",
        "    while (abs(var_x - x0) > eps): #condition to run through till maximum number of iterations\n",
        "        x0 = var_x\n",
        "        var_x = x0 - f(x0) / fder(x0)\n",
        "        iteration_count += 1 \n",
        "        \n",
        "        if iteration_count > maxiter:\n",
        "            break\n",
        "    \n",
        "    return var_x, iteration_count"
      ],
      "execution_count": null,
      "outputs": []
    },
    {
      "cell_type": "markdown",
      "metadata": {
        "id": "ORZ6Hw4fusiC"
      },
      "source": [
        "### Test I.1 \n",
        "\n",
        "Test your implementation on a simple example, $f(x) = x^2 - 1$ or similar. (20% of the total grade)"
      ]
    },
    {
      "cell_type": "code",
      "metadata": {
        "id": "Qs5T40qLusiC"
      },
      "source": [
        "#making use of the lambda function available with the math library\n",
        "\n",
        "f = lambda x: x**2 - 1\n",
        "fder = lambda x: 2 * x"
      ],
      "execution_count": null,
      "outputs": []
    },
    {
      "cell_type": "code",
      "metadata": {
        "id": "pIuTMCB5usiD",
        "colab": {
          "base_uri": "https://localhost:8080/"
        },
        "outputId": "202bdfb9-8725-4cde-f101-6792debee4e5"
      },
      "source": [
        "root, iteration_count = newton_iteration(f, fder, 0.05)\n",
        "\n",
        "print('Root:', root)\n",
        "print('Times iterated:', iteration_count)"
      ],
      "execution_count": null,
      "outputs": [
        {
          "output_type": "stream",
          "name": "stdout",
          "text": [
            "Root: 1.0000000000149214\n",
            "Times iterated: 7\n"
          ]
        }
      ]
    },
    {
      "cell_type": "markdown",
      "metadata": {
        "id": "vEfnG9F5usiF"
      },
      "source": [
        "### Test I.2\n",
        "\n",
        "Now consider a function which has a multiple root. Take $f(x) = (x^2 - 1)^2$ as an example. Implement a modified Newton's iteraion,\n",
        "\n",
        "$$\n",
        "x_{n+1} = x_{n} - m \\frac{f(x_n)}{f'(x_n)}\n",
        "$$\n",
        "\n",
        "and vary $m= 1, 2, 3, 4, 5$. Check the number of iterations required for convergence within a fixed $\\epsilon$. Are your observations consistent with the expectation that the convergence is quadratic is $m$ equals the multiplicity of the root, and is linear otherwise? (40% of the total grade)"
      ]
    },
    {
      "cell_type": "code",
      "metadata": {
        "id": "Hd1vbBSVusiG"
      },
      "source": [
        "#making use of the lambda function available with the math library\n",
        "\n",
        "f = lambda x: (x**2 - 1)**2\n",
        "fder = lambda x: 4 * x * (x**2 - 1)"
      ],
      "execution_count": null,
      "outputs": []
    },
    {
      "cell_type": "code",
      "metadata": {
        "id": "NieYkv2yusiG"
      },
      "source": [
        "def modified_newton_iteration(f, fder, x0, m, eps=1e-5, maxiter=1000):\n",
        "    \n",
        "    var_x = x0 - m * f(x0) / fder(x0)\n",
        "    iteration_count = 0\n",
        "    \n",
        "    while (abs(var_x - x0) > eps): \n",
        "        x0 = var_x\n",
        "        var_x = x0 - m * f(x0) / fder(x0)\n",
        "        iteration_count += 1 \n",
        "        \n",
        "        if iteration_count > maxiter: \n",
        "            var_x = 'Nan'\n",
        "            break\n",
        "    \n",
        "    return var_x, iteration_count"
      ],
      "execution_count": null,
      "outputs": []
    },
    {
      "cell_type": "code",
      "metadata": {
        "id": "o6o-qt7BusiH",
        "colab": {
          "base_uri": "https://localhost:8080/"
        },
        "outputId": "9fd2d40a-6e68-4831-91ba-a2bc6a99ec97"
      },
      "source": [
        "for k in range(1, 6): \n",
        "    root, iteration_count = modified_newton_iteration(f, fder, 3.1415, k)\n",
        "    print('m:', k, '\\troot:', root, '\\titeration:', iteration_count)"
      ],
      "execution_count": null,
      "outputs": [
        {
          "output_type": "stream",
          "name": "stdout",
          "text": [
            "m: 1 \troot: 1.0000069974813859 \titeration: 19\n",
            "m: 2 \troot: 1.0 \titeration: 5\n",
            "m: 3 \troot: 0.9999971272941264 \titeration: 13\n",
            "m: 4 \troot: Nan \titeration: 1001\n",
            "m: 5 \troot: Nan \titeration: 1001\n"
          ]
        }
      ]
    },
    {
      "cell_type": "markdown",
      "metadata": {
        "id": "2UQT2g-YusiI"
      },
      "source": [
        "# Part II. Fixed-point iteration"
      ]
    },
    {
      "cell_type": "markdown",
      "metadata": {
        "id": "MSU6gB7TusiI"
      },
      "source": [
        "Consider the following equation:\n",
        "\n",
        "$$\n",
        "\\sqrt{x} = \\cos{x}\n",
        "$$\n",
        "\n",
        "Plot the left-hand side and right-hand side of this equation, and localize the root graphically. Estimate the location of the root by visual inspection of the plot.\n",
        "\n",
        "Write a function which finds the solution using fixed-point iteration up to a predefined accuracy $\\epsilon$. Compare the result to an estimate from a visual inspection.\n",
        "\n",
        "Next, rewrite the fixed-point problem in the form\n",
        "\n",
        "$$\n",
        "x = x - \\alpha f(x)\n",
        "$$\n",
        "\n",
        "where $\\alpha$ is the free parameter. Check the dependence of the number of iterations required for a given $\\epsilon$ on $\\alpha$. Compare your results to an expectation that the optimal value of $\\alpha$ is given by \n",
        "\n",
        "$$\n",
        "\\alpha = \\frac{2}{m + M}\n",
        "$$\n",
        "\n",
        "where $0 < m < |f'(x)| < M$ over the localization interval. (40% of the total grade)"
      ]
    },
    {
      "cell_type": "code",
      "metadata": {
        "id": "F1HJhTL-usiJ",
        "colab": {
          "base_uri": "https://localhost:8080/",
          "height": 448
        },
        "outputId": "ca9b3889-adbb-4266-a510-3c8415a0ce53"
      },
      "source": [
        "x = np.linspace(0.1, 7, 100)\n",
        "\n",
        "plt.plot(x, np.sqrt(x), label='sqrt')\n",
        "plt.plot(x, np.cos(x), label='cos')\n",
        "plt.legend()"
      ],
      "execution_count": null,
      "outputs": [
        {
          "output_type": "execute_result",
          "data": {
            "text/plain": [
              "<matplotlib.legend.Legend at 0x7f580021f370>"
            ]
          },
          "metadata": {},
          "execution_count": 8
        },
        {
          "output_type": "display_data",
          "data": {
            "text/plain": [
              "<Figure size 640x480 with 1 Axes>"
            ],
            "image/png": "[encoded data removed]"
          },
          "metadata": {}
        }
      ]
    },
    {
      "cell_type": "code",
      "metadata": {
        "id": "frMQm-3HusiK"
      },
      "source": [
        "#making use of the lambda function available with the math library\n",
        "\n",
        "f = lambda x: np.sqrt(x) - np.cos(x)\n",
        "fder = lambda x: 1 / (2 * np.sqrt(x)) - np.sin(x)"
      ],
      "execution_count": null,
      "outputs": []
    },
    {
      "cell_type": "code",
      "metadata": {
        "id": "vb6dujxUusiK",
        "colab": {
          "base_uri": "https://localhost:8080/",
          "height": 448
        },
        "outputId": "0a45f689-1d30-4841-c4dd-da33fb52bd59"
      },
      "source": [
        "x = np.linspace(0.1, 1, 50)\n",
        "plt.plot(x, fder(x), label='derivative of f')\n",
        "plt.legend()"
      ],
      "execution_count": null,
      "outputs": [
        {
          "output_type": "execute_result",
          "data": {
            "text/plain": [
              "<matplotlib.legend.Legend at 0x7f580021f910>"
            ]
          },
          "metadata": {},
          "execution_count": 10
        },
        {
          "output_type": "display_data",
          "data": {
            "text/plain": [
              "<Figure size 640x480 with 1 Axes>"
            ],
            "image/png": "[encoded data removed]"
          },
          "metadata": {}
        }
      ]
    },
    {
      "cell_type": "code",
      "metadata": {
        "id": "fDVmbsYpusiK"
      },
      "source": [
        "def newton_iteration_fixed_poinit(f, fder, x0, alpha, eps=1e-5, maxiter=1000):\n",
        "    \n",
        "    var_x = x0 - alpha * f(x0)\n",
        "    iteration_count = 0\n",
        "    \n",
        "    while (abs(var_x - x0) > eps): \n",
        "        x0 = var_x\n",
        "        var_x = x0 - alpha * f(x0)\n",
        "        iteration_count += 1 \n",
        "        \n",
        "        if iteration_count > maxiter: \n",
        "            var_x = 'Nan'\n",
        "            break\n",
        "    \n",
        "    return var_x, iteration_count"
      ],
      "execution_count": null,
      "outputs": []
    },
    {
      "cell_type": "code",
      "metadata": {
        "id": "h7-sbf_husiL",
        "colab": {
          "base_uri": "https://localhost:8080/"
        },
        "outputId": "b71a74e8-889a-4bd3-d6af-6822866eb49b"
      },
      "source": [
        "x0 = 2 / 3\n",
        "\n",
        "for k in [0.1, 0.5, 1, 1.5]: \n",
        "    root, iteration_count = newton_iteration_fixed_poinit(f, fder, x0, k)\n",
        "    print('alpha:', k, '\\troot:', root, '\\titeration:', iteration_count)"
      ],
      "execution_count": null,
      "outputs": [
        {
          "output_type": "stream",
          "name": "stdout",
          "text": [
            "alpha: 0.1 \troot: 0.6417846268333629 \titeration: 44\n",
            "alpha: 0.5 \troot: 0.6417193751949732 \titeration: 8\n",
            "alpha: 1 \troot: 0.6417136823927276 \titeration: 6\n",
            "alpha: 1.5 \troot: 0.6417185143046147 \titeration: 47\n"
          ]
        }
      ]
    },
    {
      "cell_type": "markdown",
      "metadata": {
        "id": "RtSH9sDnusiL"
      },
      "source": [
        "# Part III. Newton's fractal.\n",
        "\n",
        "(Not graded). \n",
        "\n",
        "Consider the equation\n",
        "\n",
        "$$\n",
        "x^3 = 1\n",
        "$$\n",
        "\n",
        "It has three solutions in the complex plane, $x_k = \\exp(i\\, 2\\pi k/ 3)$, $k = 0, 1, 2$.\n",
        "\n",
        "The Newton's iterations converge to one of these solutions, depending on the starting point in the complex plane (to converge to a complex-valued solution, the iteration needs a complex-valued starting point).\n",
        "\n",
        "Plot the \\emph{basins of attraction} of these roots on the complex plane of $x$ (i.e., on the plane $\\mathrm{Re}x$ -- $\\mathrm{Im}x$). To this end, make a series of calculations, varying the initial conditions on a grid of points. \n",
        "Color the grid in three colors, according to the root, to which iterations converged."
      ]
    },
    {
      "cell_type": "code",
      "metadata": {
        "id": "LSVz_ROSusiM"
      },
      "source": [
        "#making use of the lambda function available with the math library\n",
        "\n",
        "f = lambda x: x**3 - 1\n",
        "fder = lambda x: 3 * x**2 "
      ],
      "execution_count": null,
      "outputs": []
    },
    {
      "cell_type": "code",
      "metadata": {
        "id": "MjGq51u6usiM"
      },
      "source": [
        "def newton_iteration_fractal(f, fder, x0, y0, eps=1e-5, maxiter=1000):\n",
        "    num = complex(x0, y0)\n",
        "    var_x = num - f(num) / fder(num)\n",
        "    iteration_count = 0\n",
        "    \n",
        "    while (abs(var_x - num) > eps): \n",
        "        num = var_x\n",
        "        var_x = num - f(num) / fder(num)\n",
        "        iteration_count += 1 \n",
        "        \n",
        "        if iteration_count > maxiter: \n",
        "            var_x = 'Nan'\n",
        "            break\n",
        "    \n",
        "    return var_x"
      ],
      "execution_count": null,
      "outputs": []
    },
    {
      "cell_type": "code",
      "metadata": {
        "id": "D9NbvItiusiM",
        "outputId": "d13c944e-980f-4155-fad8-965060694b21",
        "colab": {
          "base_uri": "https://localhost:8080/",
          "height": 430
        }
      },
      "source": [
        "X, Y = np.linspace(-1.2, 1.2, 50), np.linspace(-1.2, 1.2, 50)\n",
        "\n",
        "for x in X: \n",
        "    for y in Y: \n",
        "        sol = newton_iteration_fractal(f, fder, x, y)\n",
        "        \n",
        "        if sol != 'Nan': \n",
        "            if abs(sol.imag) < 1e-8: \n",
        "                plt.scatter(sol.real, sol.imag, marker='x', s=50)\n",
        "                plt.scatter(x, y, marker='o', color='purple', alpha=1)\n",
        "                \n",
        "            elif sol.imag < 0: \n",
        "                plt.scatter(sol.real, sol.imag, marker='D', s=50)\n",
        "                plt.scatter(x, y, marker='o', color='black', alpha=1)\n",
        "                \n",
        "            else: \n",
        "                plt.scatter(sol.real, sol.imag, marker='^', s=50)\n",
        "                plt.scatter(x, y, marker='o', color='gray', alpha=1)"
      ],
      "execution_count": null,
      "outputs": [
        {
          "output_type": "display_data",
          "data": {
            "text/plain": [
              "<Figure size 640x480 with 1 Axes>"
            ],
            "image/png": "[encoded data removed]"
          },
          "metadata": {}
        }
      ]
    }
  ]
}