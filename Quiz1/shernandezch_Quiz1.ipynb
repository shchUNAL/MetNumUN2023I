{
  "nbformat": 4,
  "nbformat_minor": 0,
  "metadata": {
    "colab": {
      "provenance": []
    },
    "kernelspec": {
      "name": "python3",
      "display_name": "Python 3"
    }
  },
  "cells": [
    {
      "cell_type": "markdown",
      "metadata": {
        "id": "4Gb04XWVHDB6"
      },
      "source": [
        "# **Quiz 1 - Python NumPy**\n",
        "---\n",
        "This quiz will help you practice the skills coding in Python and using Numpy.\n",
        "\n",
        "> **Note:** This aquiz will be graded on **UNCode** **[https://uncode.unal.edu.co/](https://uncode.unal.edu.co/)** ([doumentation](https://juezun.github.io/)). In each exercise is indicated where you should write your code. Complete the code, download the file submit it in **UNCode**."
      ]
    },
    {
      "cell_type": "code",
      "metadata": {
        "id": "875DsJCur8zB",
        "colab": {
          "base_uri": "https://localhost:8080/"
        },
        "outputId": "d51bfaab-0367-42fe-b78b-7481aeb3b325"
      },
      "source": [
        "!python --version\n",
        "import numpy as np\n",
        "\n",
        "print('NumPy', np.__version__)"
      ],
      "execution_count": null,
      "outputs": [
        {
          "output_type": "stream",
          "name": "stdout",
          "text": [
            "Python 3.8.10\n",
            "NumPy 1.22.4\n"
          ]
        }
      ]
    },
    {
      "cell_type": "markdown",
      "metadata": {
        "id": "Xyl5fF0zr9r4"
      },
      "source": [
        "This quiz was created originaly in:\n",
        "\n",
        "- Python 3.6.9\n",
        "\n",
        "- NumPy: 1.19.5"
      ]
    },
    {
      "cell_type": "markdown",
      "source": [
        "## **1. *FizzBuzz*  - Python**"
      ],
      "metadata": {
        "id": "rN2shbVJV7-S"
      }
    },
    {
      "cell_type": "markdown",
      "source": [
        "**Solution**"
      ],
      "metadata": {
        "id": "BX8ejJrpQdgb"
      }
    },
    {
      "cell_type": "code",
      "source": [
        "#Do not change this function's name, parameters or output format. It will be used in automatic grading.\n",
        "def FizzBuzz(x):\n",
        "    answer =\"\"\n",
        "    if x % 3 == 0 and x % 5 == 0:\n",
        "      answer = \"FizzBuzz!\"\n",
        "    elif x % 3 == 0:\n",
        "      answer = \"Fizz!\"\n",
        "    elif x % 5 == 0:\n",
        "      answer = \"Buzz!\"\n",
        "    else:\n",
        "      answer = \"...\"\n",
        "    return answer\n"
      ],
      "metadata": {
        "id": "4kkesp9PQisR"
      },
      "execution_count": null,
      "outputs": []
    },
    {
      "cell_type": "markdown",
      "metadata": {
        "id": "BA-nbOmnPYl6"
      },
      "source": [
        "<details>    \n",
        "<summary>\n",
        "    <font size=\"3\" color=\"darkgreen\"><b>Verification cases </b></font>\n",
        "</summary>\n"
      ]
    },
    {
      "cell_type": "markdown",
      "metadata": {
        "id": "HwSDMxzDMWMF"
      },
      "source": [
        "## **2. *FizzBuzzList*  - Python**\n",
        "---\n",
        "\n",
        "Write the function *FizzBuzzList* that returns a list with the answers of *FizzBuzz* for the integer numbers $1$ to $n$ (including $n$)."
      ]
    },
    {
      "cell_type": "markdown",
      "source": [
        "**Solution**"
      ],
      "metadata": {
        "id": "O-OLGB5BZIQq"
      }
    },
    {
      "cell_type": "code",
      "source": [
        "#Do not change this function's name, parameters or output format. It will be used in automatic grading.\n",
        "def FizzBuzzList(n):\n",
        "    ans = []\n",
        "    if n < 0:\n",
        "      return ans\n",
        "    for i in range(1,n+1):\n",
        "      answer =\"\"\n",
        "      if i % 3 == 0 and i % 5 == 0:\n",
        "        answer = \"FizzBuzz!\"\n",
        "      elif i % 3 == 0:\n",
        "        answer = \"Fizz!\"\n",
        "      elif i % 5 == 0:\n",
        "        answer = \"Buzz!\"\n",
        "      else:\n",
        "        answer = \"...\"\n",
        "      ans.append(answer)\n",
        "    return ans"
      ],
      "metadata": {
        "id": "dIYchJvEZMEJ"
      },
      "execution_count": null,
      "outputs": []
    },
    {
      "cell_type": "markdown",
      "source": [
        "<details>    \n",
        "<summary>\n",
        "    <font size=\"3\" color=\"darkgreen\"><b>Verification cases </b></font>\n",
        "</summary>"
      ],
      "metadata": {
        "id": "P0-XPf1xZokq"
      }
    },
    {
      "cell_type": "markdown",
      "source": [
        "## **3. *Standarize* - z scores - NumPy**"
      ],
      "metadata": {
        "id": "6Yepp3PEoPjA"
      }
    },
    {
      "cell_type": "markdown",
      "source": [
        "**IMPORTANT:** Solve this exercise using the ***`NumPy`*** functions ***`mean`*** and ***`std`*** not using prograrmming structures like ***`if`*** or ***`for`***."
      ],
      "metadata": {
        "id": "W8J-661cl5-Z"
      }
    },
    {
      "cell_type": "code",
      "source": [
        "import numpy as np\n",
        "\n",
        "X = np.array([1.2,3.2,4.3,5.6])\n",
        "print(X.mean())\n",
        "print(X.std())"
      ],
      "metadata": {
        "colab": {
          "base_uri": "https://localhost:8080/"
        },
        "id": "PZnHitR4lrMh",
        "outputId": "c2e7e5d3-b0ec-4b32-e162-28b0d749101c"
      },
      "execution_count": null,
      "outputs": [
        {
          "output_type": "stream",
          "name": "stdout",
          "text": [
            "3.5749999999999997\n",
            "1.6130328576938535\n"
          ]
        }
      ]
    },
    {
      "cell_type": "markdown",
      "source": [
        "**Solution**"
      ],
      "metadata": {
        "id": "frfaDDj0k7tJ"
      }
    },
    {
      "cell_type": "code",
      "source": [
        "#Do not change this function's name, parameters or output format. It will be used in automatic grading.\n",
        "\n",
        "import numpy as np\n",
        "\n",
        "def standarize(X):\n",
        "  X_standarized = (X - np.mean(X))/np.std(X)\n",
        "  return X_standarized"
      ],
      "metadata": {
        "id": "vUf0_xqXgHSj"
      },
      "execution_count": null,
      "outputs": []
    },
    {
      "cell_type": "markdown",
      "source": [
        "## **4. *Main diagonal matrix*  - NumPy**"
      ],
      "metadata": {
        "id": "4GU-LwecnqCR"
      }
    },
    {
      "cell_type": "markdown",
      "source": [
        "**IMPORTANT:** Solve this exercise using the ***`NumPy`*** function ***`diag`***  and ***`astype`*** not using prograrmming structures like ***`if`*** or ***`for`***."
      ],
      "metadata": {
        "id": "AbqTfmPMuir4"
      }
    },
    {
      "cell_type": "code",
      "source": [
        "import numpy as np\n",
        "A = np.array([\n",
        "    [1, 0, 2, 9, 2],\n",
        "    [9, 2, 6, 5, 7],\n",
        "    [6, 4, 3, 4, 7]\n",
        "    \n",
        "])\n",
        "\n",
        "print(A.astype(float))\n",
        "\n",
        "print(np.diag(A))\n",
        "\n",
        "print(np.diag(np.diag(A)))"
      ],
      "metadata": {
        "colab": {
          "base_uri": "https://localhost:8080/"
        },
        "id": "H8jtLvpMuvep",
        "outputId": "052bda53-d7b2-4bfd-d654-4b62c25f4ebb"
      },
      "execution_count": null,
      "outputs": [
        {
          "output_type": "stream",
          "name": "stdout",
          "text": [
            "[[1. 0. 2. 9. 2.]\n",
            " [9. 2. 6. 5. 7.]\n",
            " [6. 4. 3. 4. 7.]]\n",
            "[1 2 3]\n",
            "[[1 0 0]\n",
            " [0 2 0]\n",
            " [0 0 3]]\n"
          ]
        }
      ]
    },
    {
      "cell_type": "code",
      "source": [
        "#Do not change this function's name, parameters or output format. It will be used in automatic grading.\n",
        "\n",
        "import numpy as np\n",
        "\n",
        "def main_diagonal_matrix(A):\n",
        "  D = np.diag(np.diag(A)).astype(float)\n",
        "  return D"
      ],
      "metadata": {
        "id": "thogtwflo6-x"
      },
      "execution_count": null,
      "outputs": []
    },
    {
      "cell_type": "markdown",
      "metadata": {
        "id": "4Igf_jPe3yBd"
      },
      "source": [
        "**¡Congratulations!** You have finished your first quiz.\n",
        "\n"
      ]
    },
    {
      "cell_type": "markdown",
      "metadata": {
        "id": "QETcLEiG3yBs"
      },
      "source": [
        "## **Credits**\n",
        "Created by \n",
        "  - German Hernandez\n",
        "  - Oscar Fabian Sierra Daza\n",
        "  \n",
        "Modifying quizzes originaly created by\n",
        "  - Felipe Restrepo Calle\n",
        "  - Alberto Nicolai Romero Martínez\n",
        "  - Miguel Angel Ortiz Marín\n"
      ]
    }
  ]
}